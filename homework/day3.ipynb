
{
  "nbformat": 4,
  "nbformat_minor": 0,
  "metadata": {
    "colab": {
      "name": "day3.ipynb",
      "provenance": []
    },
    "kernelspec": {
      "name": "python3",
      "display_name": "Python 3"
    }
  },
  "cells": [
    {
      "cell_type": "markdown",
      "metadata": {
        "id": "0c7pF6yW6yb8"
      },
      "source": [
        "# **Homework Day 3**"
      ]
    },
    {
      "cell_type": "markdown",
      "metadata": {
        "id": "7Y-Kb55y7ZjR"
      },
      "source": [
        "User login application\r\n",
        "\r\n",
        "\r\n",
        "\r\n",
        "*   Get Username and Password values from the user\r\n",
        "*   Check the values in an if statement and tell the user if they were successful\r\n",
        "\r\n",
        "\r\n",
        "\r\n"
      ]
    },
    {
      "cell_type": "code",
      "metadata": {
        "id": "32c3k8GE69iX"
      },
      "source": [
        "username = 'muhammad'\r\n",
        "\r\n",
        "password = 'd1e2m3b4o5'\r\n",
        "\r\n",
        "userInput = input(\"What is your username?\\n\")\r\n",
        "\r\n",
        "if userInput == username:\r\n",
        "    a=input(\"Password?\\n\")   \r\n",
        "    if a == password:\r\n",
        "        print(\"Successful. \\nWelcome!\")\r\n",
        "    else:\r\n",
        "        print(\"That is a wrong password.\")\r\n",
        "else:\r\n",
        "    print(\"That is a wrong username.\")"
      ],
      "execution_count": null,
      "outputs": []
    },
    {
      "cell_type": "markdown",
      "metadata": {
        "id": "zu7DVaAs-V2Y"
      },
      "source": [
        "Extra\r\n",
        "\r\n",
        "\r\n",
        "\r\n",
        "*   Try building the same user login application but this time, using a dictionary!\r\n",
        "\r\n"
      ]
    },
    {
      "cell_type": "code",
      "metadata": {
        "colab": {
          "base_uri": "https://localhost:8080/"
        },
        "id": "NRd1mIY5-8XC",
        "outputId": "a966cc90-1466-4479-e5d9-2d5fc78e9031"
      },
      "source": [
        "#Dictionary\r\n",
        "users = {\"login\":\"muhammad\", \"Password\":\"1234\"}\r\n",
        "login = input(\"Enter login name: \")\r\n",
        "Password = input(\"Enter password: \")\r\n",
        "\r\n",
        "if login == users[\"login\"] and Password == users[\"Password\"]:\r\n",
        "     print(\"Login successful!\")\r\n",
        "else:\r\n",
        "     print(\"Wrong login or Password!\")\r\n"
      ],
      "execution_count": 31,
      "outputs": [
        {
          "output_type": "stream",
          "text": [
            "Enter login name: muhammad\n",
            "Enter password: 1234\n",
            "Login successful!\n"
          ],
          "name": "stdout"
        }
      ]
    }
  ]
}
