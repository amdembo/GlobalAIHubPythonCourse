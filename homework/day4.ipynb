
{
  "nbformat": 4,
  "nbformat_minor": 0,
  "metadata": {
    "colab": {
      "name": "day4.ipynb",
      "provenance": []
    },
    "kernelspec": {
      "name": "python3",
      "display_name": "Python 3"
    }
  },
  "cells": [
    {
      "cell_type": "markdown",
      "metadata": {
        "id": "OQqSw-J1KMQJ"
      },
      "source": [
        "# **Homework day 4**"
      ]
    },
    {
      "cell_type": "markdown",
      "metadata": {
        "id": "UmWiY5hAKUkO"
      },
      "source": [
        "Finding prime numbers between 0 and 100"
      ]
    },
    {
      "cell_type": "code",
      "metadata": {
        "colab": {
          "base_uri": "https://localhost:8080/"
        },
        "id": "6QfgqbtZKG4M",
        "outputId": "89b4748e-fbb9-4af0-f2f3-a8a97c97dda0"
      },
      "source": [
        "for Number in range (0, 100):\r\n",
        "    count = 0\r\n",
        "    for i in range(2, (Number//2 + 1)):\r\n",
        "        if(Number % i == 0):\r\n",
        "            count = count + 1\r\n",
        "            break\r\n",
        "\r\n",
        "    if (count == 0 and Number != 1):\r\n",
        "        print(\" %d\" %Number, end = '  ')"
      ],
      "execution_count": 2,
      "outputs": [
        {
          "output_type": "stream",
          "text": [
            " 0   2   3   5   7   11   13   17   19   23   29   31   37   41   43   47   53   59   61   67   71   73   79   83   89   97  "
          ],
          "name": "stdout"
        }
      ]
    }
  ]
}
