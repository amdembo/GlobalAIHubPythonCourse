
{
  "nbformat": 4,
  "nbformat_minor": 0,
  "metadata": {
    "colab": {
      "name": "day2.ipynb",
      "provenance": []
    },
    "kernelspec": {
      "name": "python3",
      "display_name": "Python 3"
    }
  },
  "cells": [
    {
      "cell_type": "markdown",
      "metadata": {
        "id": "0hZP9ldcqg3D"
      },
      "source": [
        "## **Homework Day 1**"
      ]
    },
    {
      "cell_type": "markdown",
      "metadata": {
        "id": "ZOx-RKOnrAXd"
      },
      "source": [
        "**Question one**\r\n",
        "\r\n",
        " Create a list and swap the second half of the list with the first half of the list and print this list on the screen.\r\n",
        "\r\n"
      ]
    },
    {
      "cell_type": "code",
      "metadata": {
        "colab": {
          "base_uri": "https://localhost:8080/"
        },
        "id": "e2wiMzEsdNMn",
        "outputId": "2890d8d5-f379-4585-ffed-f934eb71551c"
      },
      "source": [
        "my_list = [1,2,3,4,5,6,7,8,9,10]\r\n",
        "n = len(my_list)\r\n",
        "print(my_list)\r\n",
        "print(\"Length of list = \", n)\r\n",
        "\r\n",
        "middle_index = n//2\r\n",
        "first_half = my_list[:middle_index]  #Slice first half\r\n",
        "\r\n",
        "\r\n",
        "print(\"First half of list: \", first_half)\r\n",
        "\r\n",
        "second_half = my_list[middle_index:]  #Slice second half\r\n",
        "\r\n",
        "\r\n",
        "print(\"Second half of list: \", second_half)\r\n",
        "\r\n",
        "list = second_half + first_half\r\n",
        "print (\"swapped list: \", list) "
      ],
      "execution_count": 26,
      "outputs": [
        {
          "output_type": "stream",
          "text": [
            "[1, 2, 3, 4, 5, 6, 7, 8, 9, 10]\n",
            "Length of list =  10\n",
            "First half of list:  [1, 2, 3, 4, 5]\n",
            "Second half of list:  [6, 7, 8, 9, 10]\n",
            "swapped list:  [6, 7, 8, 9, 10, 1, 2, 3, 4, 5]\n"
          ],
          "name": "stdout"
        }
      ]
    },
    {
      "cell_type": "markdown",
      "metadata": {
        "id": "xrRE1132rxRT"
      },
      "source": [
        "**Question two**\r\n",
        "\r\n",
        "Ask the user to input a single digit integer to a variable 'n'.\r\n",
        "Then print out all of the even numbers from 0 to n (including n)."
      ]
    },
    {
      "cell_type": "code",
      "metadata": {
        "id": "Kc9Wa97msRCG",
        "outputId": "6b9e4c44-11ec-475d-eca5-72624f2ae1b1",
        "colab": {
          "base_uri": "https://localhost:8080/"
        }
      },
      "source": [
        "n = int(input(\"Please input a single digit integer: \"))\r\n",
        "print(n)\r\n",
        "# iterating each number in list \r\n",
        "for num in range(n + 1): \r\n",
        "      \r\n",
        "    # checking condition \r\n",
        "    if num % 2 == 0: \r\n",
        "        print(num, end = \" \") "
      ],
      "execution_count": 47,
      "outputs": [
        {
          "output_type": "stream",
          "text": [
            "Please input a single digit integer: 28\n",
            "28\n",
            "0 2 4 6 8 10 12 14 16 18 20 22 24 26 28 "
          ],
          "name": "stdout"
        }
      ]
    }
  ]
}
